{
  "nbformat": 4,
  "nbformat_minor": 0,
  "metadata": {
    "colab": {
      "provenance": []
    },
    "kernelspec": {
      "name": "python3",
      "display_name": "Python 3"
    },
    "language_info": {
      "name": "python"
    }
  },
  "cells": [
    {
      "cell_type": "code",
      "execution_count": 1,
      "metadata": {
        "colab": {
          "base_uri": "https://localhost:8080/"
        },
        "id": "v0ynLs8RWRtR",
        "outputId": "3303462e-8268-42e9-8ae2-9288b22dc9eb"
      },
      "outputs": [
        {
          "output_type": "stream",
          "name": "stdout",
          "text": [
            "Data cleaning complete. Cleaned file saved as 'cleaned_data.csv'.\n"
          ]
        }
      ],
      "source": [
        "# Data Cleaning Script\n",
        "import pandas as pd\n",
        "\n",
        "# Load raw dataset\n",
        "df = pd.read_csv(\"/content/Frailty_data.csv\")\n",
        "\n",
        "# Strip trailing and leading spaces from column names\n",
        "df.columns = df.columns.str.strip()\n",
        "\n",
        "# Identify object (string) columns and remove extra spaces within them\n",
        "str_columns = df.select_dtypes(include=['object']).columns\n",
        "df[str_columns] = df[str_columns].apply(lambda col: col.str.strip())\n",
        "\n",
        "# Rename columns for consistency and ease of access\n",
        "column_mapping = {\n",
        "    'Height (Inches)': 'height',\n",
        "    'Weight (Pounds)': 'weight',\n",
        "    'Age': 'age',\n",
        "    'Grip strength': 'grip_strength',\n",
        "    'Frailty': 'frailty'\n",
        "}\n",
        "df.rename(columns=column_mapping, inplace=True)\n",
        "\n",
        "# Convert frailty labels ('Y', 'N') into binary values (1, 0)\n",
        "df['frailty'] = df['frailty'].map({'Y': 1, 'N': 0})\n",
        "\n",
        "# Save the cleaned dataset\n",
        "df.to_csv('/content/cleaned_data.csv', index=False)\n",
        "\n",
        "print(\"Data cleaning complete. Cleaned file saved as 'cleaned_data.csv'.\")"
      ]
    }
  ]
}